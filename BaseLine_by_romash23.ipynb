{
  "metadata": {
    "kernelspec": {
      "language": "python",
      "display_name": "Python 3",
      "name": "python3"
    },
    "language_info": {
      "name": "python",
      "version": "3.7.12",
      "mimetype": "text/x-python",
      "codemirror_mode": {
        "name": "ipython",
        "version": 3
      },
      "pygments_lexer": "ipython3",
      "nbconvert_exporter": "python",
      "file_extension": ".py"
    },
    "kaggle": {
      "accelerator": "none",
      "dataSources": [
        {
          "sourceId": 34288,
          "databundleVersionId": 3207826,
          "sourceType": "competition"
        }
      ],
      "dockerImageVersionId": 30157,
      "isInternetEnabled": false,
      "language": "python",
      "sourceType": "notebook",
      "isGpuEnabled": false
    },
    "colab": {
      "name": "BaseLine by romash23",
      "provenance": [],
      "toc_visible": true,
      "include_colab_link": true
    }
  },
  "nbformat_minor": 0,
  "nbformat": 4,
  "cells": [
    {
      "cell_type": "markdown",
      "metadata": {
        "id": "view-in-github",
        "colab_type": "text"
      },
      "source": [
        "<a href=\"https://colab.research.google.com/github/romash23/project-3/blob/master/BaseLine_by_romash23.ipynb\" target=\"_parent\"><img src=\"https://colab.research.google.com/assets/colab-badge.svg\" alt=\"Open In Colab\"/></a>"
      ]
    },
    {
      "source": [
        "# IMPORTANT: SOME KAGGLE DATA SOURCES ARE PRIVATE\n",
        "# RUN THIS CELL IN ORDER TO IMPORT YOUR KAGGLE DATA SOURCES.\n",
        "import kagglehub\n",
        "kagglehub.login()\n"
      ],
      "metadata": {
        "id": "vKHdtuaGE5Ho"
      },
      "cell_type": "code",
      "outputs": [],
      "execution_count": null
    },
    {
      "source": [
        "# IMPORTANT: RUN THIS CELL IN ORDER TO IMPORT YOUR KAGGLE DATA SOURCES,\n",
        "# THEN FEEL FREE TO DELETE THIS CELL.\n",
        "# NOTE: THIS NOTEBOOK ENVIRONMENT DIFFERS FROM KAGGLE'S PYTHON\n",
        "# ENVIRONMENT SO THERE MAY BE MISSING LIBRARIES USED BY YOUR\n",
        "# NOTEBOOK.\n",
        "\n",
        "sf_booking_path = kagglehub.competition_download('sf-booking')\n",
        "\n",
        "print('Data source import complete.')\n"
      ],
      "metadata": {
        "id": "m_EEeha9E5Hq"
      },
      "cell_type": "code",
      "outputs": [],
      "execution_count": null
    },
    {
      "cell_type": "markdown",
      "source": [
        " <h1 style=\"text-align:center; font-style:italic;\">Введение</h1>\n",
        "\n"
      ],
      "metadata": {
        "id": "Oef8y3rjE5Hq"
      }
    },
    {
      "cell_type": "markdown",
      "source": [
        "\n",
        "<div class=\"alert alert-info\" role=\"alert\">\n",
        "<center><img src=\"https://upload.wikimedia.org/wikipedia/commons/e/e3/Booking.com_logo2.png\" style=\"width:200px;height:40px;\">\n",
        "    \n",
        "\n",
        "### *Какой кейс решаем ?*\n",
        "\n",
        "Представим, что работаем дата-сайентистом в компании Booking. Одна из проблем компании — это нечестные отели, которые накручивают себе рейтинг. Одним из способов обнаружения таких отелей является построение модели, которая предсказывает рейтинг отеля. Если предсказания модели сильно отличаются от фактического результата, то, возможно, отель ведёт себя нечестно, и его стоит проверить.\n",
        "    \n",
        "<center>\n",
        "    <b>Описание данных</b>\n",
        "    \n",
        "    \n",
        "<table >\n",
        "   <tr>\n",
        "    <th>Признак</th>\n",
        "    <th>Описание</th>\n",
        "  </tr>\n",
        "  \n",
        "   <tr>\n",
        "    <td>hotel_address</td>\n",
        "    <td>адрес отеля</td>\n",
        "  </tr>\n",
        "    \n",
        "   <tr>\n",
        "    <td>additional_number_of_scoring</td>\n",
        "    <td>количество оценок без отзывов</td>\n",
        "  </tr>\n",
        "    \n",
        "  <tr>\n",
        "    <td>review_date</td>\n",
        "    <td>дата отзыва</td>\n",
        "  </tr>\n",
        "    \n",
        "  <tr>\n",
        "    <td>average_score</td>\n",
        "    <td>средний балл отеля</td>\n",
        "  </tr>\n",
        "    \n",
        "   <tr>\n",
        "    <td>hotel_name</td>\n",
        "    <td>название</td>\n",
        "  </tr>\n",
        "    \n",
        "   <tr>\n",
        "    <td>reviewer_nationality</td>\n",
        "    <td>гражданство рецензента</td>\n",
        "  </tr>\n",
        "    \n",
        "   <tr>\n",
        "    <td>negative_review </td>\n",
        "    <td>негативный отзыв</td>\n",
        "  </tr>\n",
        "   \n",
        "   <tr>\n",
        "    <td>review_total_negative_word_counts </td>\n",
        "    <td>число слов в негативном отзыве</td>\n",
        "  </tr>  \n",
        "    \n",
        "   <tr>\n",
        "    <td>total_number_of_reviews </td>\n",
        "    <td>общее число отзывов на странице отеля</td>\n",
        "  </tr>  \n",
        "    \n",
        "   <tr>\n",
        "    <td>positive_review</td>\n",
        "    <td>позитивный отзыв</td>\n",
        "  </tr>\n",
        "    \n",
        "   <tr>\n",
        "    <td>review_total_positive_word_counts</td>\n",
        "    <td>число слов в позитивном отзыве</td>\n",
        "  </tr>\n",
        "    \n",
        "  <tr>\n",
        "    <td>total_number_of_reviews_reviewer_has_given</td>\n",
        "    <td>общее число отзывов рецензента на площадке</td>\n",
        "  </tr>\n",
        "    \n",
        "   <tr>\n",
        "    <td>reviewer_score</td>\n",
        "    <td>оценка данная рецензентом отелю</td>\n",
        "  </tr>\n",
        "    \n",
        "   <tr>\n",
        "    <td>tags</td>\n",
        "    <td>теги </td>\n",
        "  </tr>\n",
        "    \n",
        "   <tr>\n",
        "    <td>days_since_review</td>\n",
        "    <td>дней с момента публикации отзыва</td>\n",
        "  </tr>\n",
        "    \n",
        "   <tr>\n",
        "    <td>lat</td>\n",
        "    <td>координата по широте</td>\n",
        "       \n",
        "   <tr>\n",
        "    <td>lng</td>\n",
        "    <td>координата по долготе</td>\n",
        "  </tr>\n",
        "    \n",
        "</table>\n",
        "    \n",
        "</div>"
      ],
      "metadata": {
        "id": "skLQ1bIKE5Hr"
      }
    },
    {
      "cell_type": "code",
      "source": [
        "# Стандартные библиотеки для работы с таблицами и вычислениями.\n",
        "import numpy as np\n",
        "import pandas as pd\n",
        "\n",
        "# Инструменты визуализации.\n",
        "import matplotlib.pyplot as plt\n",
        "import seaborn as sns\n",
        "\n",
        "# Библиотека для кодировки признаков и счетчик хешируемых объектов.\n",
        "import category_encoders as ce\n",
        "from collections import Counter\n",
        "\n",
        "# Метрики и ножницы для рботы с выборками.\n",
        "from sklearn import metrics\n",
        "from sklearn.model_selection import train_test_split\n",
        "from sklearn.feature_selection import f_classif, chi2\n",
        "\n",
        "# Модели.\n",
        "from sklearn.ensemble import RandomForestRegressor\n",
        "from sklearn.model_selection import GridSearchCV\n",
        "from catboost import CatBoostRegressor\n",
        "import lightgbm as lgb\n",
        "\n",
        "# Делаем визуальную настройку графиков\n",
        "sns.set_palette(\"Set2\")\n",
        "sns.set_theme(style=\"dark\")"
      ],
      "metadata": {
        "trusted": true,
        "execution": {
          "iopub.status.busy": "2025-05-04T17:10:48.30767Z",
          "iopub.execute_input": "2025-05-04T17:10:48.308306Z",
          "iopub.status.idle": "2025-05-04T17:10:48.317398Z",
          "shell.execute_reply.started": "2025-05-04T17:10:48.308267Z",
          "shell.execute_reply": "2025-05-04T17:10:48.316277Z"
        },
        "id": "C0b7QbfCE5Ht"
      },
      "outputs": [],
      "execution_count": null
    },
    {
      "cell_type": "code",
      "source": [
        "# всегда фиксируйте RANDOM_SEED, чтобы ваши эксперименты были воспроизводимы!\n",
        "RANDOM_SEED = 42"
      ],
      "metadata": {
        "trusted": true,
        "execution": {
          "iopub.status.busy": "2025-05-04T17:10:48.318902Z",
          "iopub.execute_input": "2025-05-04T17:10:48.319134Z",
          "iopub.status.idle": "2025-05-04T17:10:48.331953Z",
          "shell.execute_reply.started": "2025-05-04T17:10:48.319105Z",
          "shell.execute_reply": "2025-05-04T17:10:48.331197Z"
        },
        "id": "CJTjYSx7E5Ht"
      },
      "outputs": [],
      "execution_count": null
    },
    {
      "cell_type": "code",
      "source": [
        "# зафиксируем версию пакетов, чтобы эксперименты были воспроизводимы:\n",
        "!pip freeze > requirements.txt"
      ],
      "metadata": {
        "trusted": true,
        "execution": {
          "iopub.status.busy": "2025-05-04T17:10:48.332917Z",
          "iopub.execute_input": "2025-05-04T17:10:48.33311Z",
          "iopub.status.idle": "2025-05-04T17:10:51.875886Z",
          "shell.execute_reply.started": "2025-05-04T17:10:48.333084Z",
          "shell.execute_reply": "2025-05-04T17:10:51.874673Z"
        },
        "id": "lKeflq-eE5Hu"
      },
      "outputs": [],
      "execution_count": null
    },
    {
      "cell_type": "markdown",
      "source": [
        "## 1. Обзор и очистка данных"
      ],
      "metadata": {
        "id": "0Ycgv7GbE5Hv"
      }
    },
    {
      "cell_type": "code",
      "source": [
        "# Подгрузим наши данные из соревнования\n",
        "\n",
        "DATA_DIR = '/kaggle/input/sf-booking/'\n",
        "df_train = pd.read_csv(DATA_DIR+'/hotels_train.csv') # датасет для обучения\n",
        "df_test = pd.read_csv(DATA_DIR+'hotels_test.csv') # датасет для предсказания\n",
        "sample_submission = pd.read_csv(DATA_DIR+'/submission.csv') # самбмишн"
      ],
      "metadata": {
        "trusted": true,
        "execution": {
          "iopub.status.busy": "2025-05-04T17:10:51.879126Z",
          "iopub.execute_input": "2025-05-04T17:10:51.879512Z",
          "iopub.status.idle": "2025-05-04T17:10:55.117693Z",
          "shell.execute_reply.started": "2025-05-04T17:10:51.879462Z",
          "shell.execute_reply": "2025-05-04T17:10:55.116678Z"
        },
        "id": "zdJdrm-jE5Hw"
      },
      "outputs": [],
      "execution_count": null
    },
    {
      "cell_type": "code",
      "source": [
        "df_train.info()"
      ],
      "metadata": {
        "trusted": true,
        "execution": {
          "iopub.status.busy": "2025-05-04T17:10:55.118789Z",
          "iopub.execute_input": "2025-05-04T17:10:55.119017Z",
          "iopub.status.idle": "2025-05-04T17:10:55.290819Z",
          "shell.execute_reply.started": "2025-05-04T17:10:55.11899Z",
          "shell.execute_reply": "2025-05-04T17:10:55.289911Z"
        },
        "id": "o5JhQYuOE5Hw"
      },
      "outputs": [],
      "execution_count": null
    },
    {
      "cell_type": "code",
      "source": [
        "df_train.head(2)"
      ],
      "metadata": {
        "trusted": true,
        "execution": {
          "iopub.status.busy": "2025-05-04T17:10:55.291965Z",
          "iopub.execute_input": "2025-05-04T17:10:55.292189Z",
          "iopub.status.idle": "2025-05-04T17:10:55.309698Z",
          "shell.execute_reply.started": "2025-05-04T17:10:55.292152Z",
          "shell.execute_reply": "2025-05-04T17:10:55.308845Z"
        },
        "id": "3KVUxhawE5Hx"
      },
      "outputs": [],
      "execution_count": null
    },
    {
      "cell_type": "code",
      "source": [
        "# Находим дубликаты и удаляем их\n",
        "all_columns = list(df_train.columns)\n",
        "mask_dupl = df_train.duplicated(subset=all_columns)\n",
        "data_duplicates = df_train[mask_dupl]\n",
        "print(f'Количество найденных дубликатов: {data_duplicates.shape[0]}')\n",
        "df_train.drop_duplicates(inplace=True,ignore_index=True)"
      ],
      "metadata": {
        "trusted": true,
        "execution": {
          "iopub.status.busy": "2025-05-04T17:10:55.310947Z",
          "iopub.execute_input": "2025-05-04T17:10:55.311196Z",
          "iopub.status.idle": "2025-05-04T17:10:57.010532Z",
          "shell.execute_reply.started": "2025-05-04T17:10:55.311167Z",
          "shell.execute_reply": "2025-05-04T17:10:57.009651Z"
        },
        "id": "ffN3Sjw4E5Hx"
      },
      "outputs": [],
      "execution_count": null
    },
    {
      "cell_type": "code",
      "source": [
        "df_test.info()"
      ],
      "metadata": {
        "trusted": true,
        "execution": {
          "iopub.status.busy": "2025-05-04T17:10:57.011662Z",
          "iopub.execute_input": "2025-05-04T17:10:57.01188Z",
          "iopub.status.idle": "2025-05-04T17:10:57.079937Z",
          "shell.execute_reply.started": "2025-05-04T17:10:57.011851Z",
          "shell.execute_reply": "2025-05-04T17:10:57.079062Z"
        },
        "id": "QMg4G3BNE5Hx"
      },
      "outputs": [],
      "execution_count": null
    },
    {
      "cell_type": "code",
      "source": [
        "df_test.head(2)"
      ],
      "metadata": {
        "trusted": true,
        "execution": {
          "iopub.status.busy": "2025-05-04T17:10:57.082657Z",
          "iopub.execute_input": "2025-05-04T17:10:57.082931Z",
          "iopub.status.idle": "2025-05-04T17:10:57.100273Z",
          "shell.execute_reply.started": "2025-05-04T17:10:57.08289Z",
          "shell.execute_reply": "2025-05-04T17:10:57.099322Z"
        },
        "id": "zvS8FittE5Hx"
      },
      "outputs": [],
      "execution_count": null
    },
    {
      "cell_type": "code",
      "source": [
        "sample_submission.head(2)"
      ],
      "metadata": {
        "trusted": true,
        "execution": {
          "iopub.status.busy": "2025-05-04T17:10:57.10135Z",
          "iopub.execute_input": "2025-05-04T17:10:57.101598Z",
          "iopub.status.idle": "2025-05-04T17:10:57.113271Z",
          "shell.execute_reply.started": "2025-05-04T17:10:57.101545Z",
          "shell.execute_reply": "2025-05-04T17:10:57.112361Z"
        },
        "id": "lc2jZwUKE5Hx"
      },
      "outputs": [],
      "execution_count": null
    },
    {
      "cell_type": "code",
      "source": [
        "sample_submission.info()"
      ],
      "metadata": {
        "trusted": true,
        "execution": {
          "iopub.status.busy": "2025-05-04T17:10:57.114536Z",
          "iopub.execute_input": "2025-05-04T17:10:57.115188Z",
          "iopub.status.idle": "2025-05-04T17:10:57.131069Z",
          "shell.execute_reply.started": "2025-05-04T17:10:57.115132Z",
          "shell.execute_reply": "2025-05-04T17:10:57.130252Z"
        },
        "id": "6pNyAuCNE5Hy"
      },
      "outputs": [],
      "execution_count": null
    },
    {
      "cell_type": "code",
      "source": [
        "# Для корректной обработки признаков объединяем трейн и тест в один датасет\n",
        "df_train['sample'] = 1 # помечаем где у нас трейн\n",
        "df_test['sample'] = 0 # помечаем где у нас тест\n",
        "df_test['reviewer_score'] = 0 # в тесте у нас нет значения reviewer_score, мы его должны предсказать, поэтому пока что заполняем нулями\n",
        "\n",
        "data = df_test.append(df_train, sort=False).reset_index(drop=True) # объединяем"
      ],
      "metadata": {
        "trusted": true,
        "execution": {
          "iopub.status.busy": "2025-05-04T17:10:57.132132Z",
          "iopub.execute_input": "2025-05-04T17:10:57.132362Z",
          "iopub.status.idle": "2025-05-04T17:10:57.611225Z",
          "shell.execute_reply.started": "2025-05-04T17:10:57.132336Z",
          "shell.execute_reply": "2025-05-04T17:10:57.610523Z"
        },
        "id": "zUvsurgDE5Hy"
      },
      "outputs": [],
      "execution_count": null
    },
    {
      "cell_type": "code",
      "source": [
        "data.info()"
      ],
      "metadata": {
        "trusted": true,
        "execution": {
          "iopub.status.busy": "2025-05-04T17:10:57.612359Z",
          "iopub.execute_input": "2025-05-04T17:10:57.61259Z",
          "iopub.status.idle": "2025-05-04T17:10:57.834963Z",
          "shell.execute_reply.started": "2025-05-04T17:10:57.612547Z",
          "shell.execute_reply": "2025-05-04T17:10:57.83414Z"
        },
        "id": "Ay-_INxVE5Hy"
      },
      "outputs": [],
      "execution_count": null
    },
    {
      "cell_type": "code",
      "source": [
        "data.head()"
      ],
      "metadata": {
        "trusted": true,
        "execution": {
          "iopub.status.busy": "2025-05-04T17:10:57.836157Z",
          "iopub.execute_input": "2025-05-04T17:10:57.836364Z",
          "iopub.status.idle": "2025-05-04T17:10:57.85522Z",
          "shell.execute_reply.started": "2025-05-04T17:10:57.836339Z",
          "shell.execute_reply": "2025-05-04T17:10:57.854312Z"
        },
        "id": "ViL0Cj3qE5Hy"
      },
      "outputs": [],
      "execution_count": null
    },
    {
      "cell_type": "code",
      "source": [
        "data.nunique(dropna=False)"
      ],
      "metadata": {
        "trusted": true,
        "execution": {
          "iopub.status.busy": "2025-05-04T17:10:57.856311Z",
          "iopub.execute_input": "2025-05-04T17:10:57.856558Z",
          "iopub.status.idle": "2025-05-04T17:10:58.778053Z",
          "shell.execute_reply.started": "2025-05-04T17:10:57.85653Z",
          "shell.execute_reply": "2025-05-04T17:10:58.777082Z"
        },
        "id": "zTIgmPC8E5Hy"
      },
      "outputs": [],
      "execution_count": null
    },
    {
      "cell_type": "code",
      "source": [
        "data.describe(include='object')"
      ],
      "metadata": {
        "trusted": true,
        "execution": {
          "iopub.status.busy": "2025-05-04T17:10:58.779411Z",
          "iopub.execute_input": "2025-05-04T17:10:58.779683Z",
          "iopub.status.idle": "2025-05-04T17:11:00.000861Z",
          "shell.execute_reply.started": "2025-05-04T17:10:58.779655Z",
          "shell.execute_reply": "2025-05-04T17:10:59.99975Z"
        },
        "id": "_tHndPzaE5Hz"
      },
      "outputs": [],
      "execution_count": null
    },
    {
      "cell_type": "markdown",
      "source": [
        "## 2. Обработка данных"
      ],
      "metadata": {
        "id": "bmrZ4uosE5Hz"
      }
    },
    {
      "cell_type": "markdown",
      "source": [
        "### 2.1. Разбор адреса и гражданства"
      ],
      "metadata": {
        "id": "9khbqsJXE5Hz"
      }
    },
    {
      "cell_type": "code",
      "source": [
        "# Создадим признак - страна отеля\n",
        "data['hotel_country'] = data['hotel_address'].apply(lambda x: x.split()[-1])\n",
        "\n",
        "# Для Великобритании\n",
        "data.loc[data['hotel_country'] == 'Kingdom', 'hotel_country'] = 'United Kingdom'\n",
        "\n",
        "# Посмотрим, отели каких стран у нас представлены.\n",
        "data['hotel_country'].value_counts()"
      ],
      "metadata": {
        "trusted": true,
        "execution": {
          "iopub.status.busy": "2025-05-04T17:11:00.002374Z",
          "iopub.execute_input": "2025-05-04T17:11:00.00267Z",
          "iopub.status.idle": "2025-05-04T17:11:00.550408Z",
          "shell.execute_reply.started": "2025-05-04T17:11:00.00264Z",
          "shell.execute_reply": "2025-05-04T17:11:00.549465Z"
        },
        "id": "QUjAbV54E5Hz"
      },
      "outputs": [],
      "execution_count": null
    },
    {
      "cell_type": "code",
      "source": [
        "# Создадим признак - город отеля\n",
        "data['hotel_city'] = data['hotel_address'].apply(lambda x: x.split()[-5] if x.split()[-1] == 'Kingdom' else x.split()[-2])\n",
        "\n",
        "# Посмортим на города.\n",
        "data['hotel_city'].value_counts()"
      ],
      "metadata": {
        "trusted": true,
        "execution": {
          "iopub.status.busy": "2025-05-04T17:11:00.551788Z",
          "iopub.execute_input": "2025-05-04T17:11:00.552104Z",
          "iopub.status.idle": "2025-05-04T17:11:01.352365Z",
          "shell.execute_reply.started": "2025-05-04T17:11:00.552062Z",
          "shell.execute_reply": "2025-05-04T17:11:01.35156Z"
        },
        "id": "mYgQ1CF5E5Hz"
      },
      "outputs": [],
      "execution_count": null
    },
    {
      "cell_type": "code",
      "source": [
        "# Cоздадим сводную таблицу для дальнейшей визуализации.\n",
        "cities_pt = pd.pivot_table(data=data[data['sample']==1], index='hotel_city', values='reviewer_score', aggfunc=['mean'])\n",
        "\n",
        "figure, ax = plt.subplots(figsize=(10,4))\n",
        "ax.set_ylim(8, 8.6);\n",
        "ax.tick_params(axis='x', rotation=45)\n",
        "sns.barplot(x=cities_pt.index, y=cities_pt[('mean', 'reviewer_score')]);\n",
        "ax.set_xlabel('Город')\n",
        "ax.set_ylabel('Средняя оценка')\n",
        "ax.grid()\n",
        "plt.title('Средняя оценка отелей по городам', fontsize=15, pad=20);"
      ],
      "metadata": {
        "trusted": true,
        "execution": {
          "iopub.status.busy": "2025-05-04T17:11:01.353502Z",
          "iopub.execute_input": "2025-05-04T17:11:01.353748Z",
          "iopub.status.idle": "2025-05-04T17:11:01.789198Z",
          "shell.execute_reply.started": "2025-05-04T17:11:01.353721Z",
          "shell.execute_reply": "2025-05-04T17:11:01.788437Z"
        },
        "id": "X7UnR2RKE5Hz"
      },
      "outputs": [],
      "execution_count": null
    },
    {
      "cell_type": "markdown",
      "source": [
        "- Наибольшая средняя оценка отелей наблюдается в Барселоне и Вене. В Лондоне - наименьшая, но и отзывов о лондонских отелях у нас больше всего."
      ],
      "metadata": {
        "id": "Tb6d5UL1E5Hz"
      }
    },
    {
      "cell_type": "code",
      "source": [
        "# Проверим датасет на наличие пропусков:\n",
        "colors = ['lightblue', 'green']\n",
        "fig = plt.figure(figsize=(8, 8))\n",
        "cols = data.columns\n",
        "ax = sns.heatmap(\n",
        "    data[cols].isnull()*100,\n",
        "    cmap=sns.color_palette(colors),\n",
        ")\n",
        "ax.set_title(\"Тепловая карта пропусков данных\");"
      ],
      "metadata": {
        "execution": {
          "iopub.status.busy": "2025-05-04T17:11:01.790365Z",
          "iopub.execute_input": "2025-05-04T17:11:01.79067Z",
          "iopub.status.idle": "2025-05-04T17:11:16.69952Z",
          "shell.execute_reply.started": "2025-05-04T17:11:01.79064Z",
          "shell.execute_reply": "2025-05-04T17:11:16.698724Z"
        },
        "trusted": true,
        "id": "b9AwHjHlE5H0"
      },
      "outputs": [],
      "execution_count": null
    },
    {
      "cell_type": "markdown",
      "source": [
        "Пропуски в нашем датасете притствуют только в координатах *lat* и *lng*."
      ],
      "metadata": {
        "id": "KnCvqcmqE5H0"
      }
    },
    {
      "cell_type": "code",
      "source": [
        "# Посмотрим в какиx городах есть пропуски\n",
        "data.loc[data['lat'].isnull()]['hotel_city'].value_counts()"
      ],
      "metadata": {
        "trusted": true,
        "execution": {
          "iopub.status.busy": "2025-05-04T17:11:16.70095Z",
          "iopub.execute_input": "2025-05-04T17:11:16.701265Z",
          "iopub.status.idle": "2025-05-04T17:11:16.714077Z",
          "shell.execute_reply.started": "2025-05-04T17:11:16.701226Z",
          "shell.execute_reply": "2025-05-04T17:11:16.713132Z"
        },
        "id": "q2EpTRaZE5H0"
      },
      "outputs": [],
      "execution_count": null
    },
    {
      "cell_type": "markdown",
      "source": [
        "Так как библиотека *geopy* рабоает на Kaggle не совсем корректно, то я нашел координаты городов в пропусками на локальной машине. Поскольку *geopy* не смог идентифицировать все адреса из датасета, то чтобы не осталось пропусков, заполним их координатами центра текущего города."
      ],
      "metadata": {
        "id": "K-X75RtiE5H0"
      }
    },
    {
      "cell_type": "code",
      "source": [
        "# Зададим словарь с координатами\n",
        "\n",
        "city_coords = {\n",
        "    'Vienna':      (48.210033, 16.363449),\n",
        "    'Paris':       (48.864716, 2.349014),\n",
        "    'Barcelona':   (41.38879, 2.15899)\n",
        "}"
      ],
      "metadata": {
        "trusted": true,
        "execution": {
          "iopub.status.busy": "2025-05-04T17:11:16.715139Z",
          "iopub.execute_input": "2025-05-04T17:11:16.715362Z",
          "iopub.status.idle": "2025-05-04T17:11:16.720187Z",
          "shell.execute_reply.started": "2025-05-04T17:11:16.715329Z",
          "shell.execute_reply": "2025-05-04T17:11:16.719383Z"
        },
        "id": "fWQMGM8aE5H0"
      },
      "outputs": [],
      "execution_count": null
    },
    {
      "cell_type": "code",
      "source": [
        "# Функция для заполнения пропусков\n",
        "def fill_coords(row):\n",
        "    if np.isnan(row['lat']) or np.isnan(row['lng']):\n",
        "        coords = city_coords.get(row['hotel_city'])\n",
        "        if coords:\n",
        "            if np.isnan(row['lat']):\n",
        "                row['lat'] = coords[0]\n",
        "            if np.isnan(row['lng']):\n",
        "                row['lng'] = coords[1]\n",
        "    return row\n",
        "\n",
        "# Применяем функцию к DataFrame\n",
        "data = data.apply(fill_coords, axis=1)"
      ],
      "metadata": {
        "trusted": true,
        "execution": {
          "iopub.status.busy": "2025-05-04T17:11:16.721135Z",
          "iopub.execute_input": "2025-05-04T17:11:16.721332Z",
          "iopub.status.idle": "2025-05-04T17:11:56.39567Z",
          "shell.execute_reply.started": "2025-05-04T17:11:16.721307Z",
          "shell.execute_reply": "2025-05-04T17:11:56.394853Z"
        },
        "id": "ZQfJjs7wE5H0"
      },
      "outputs": [],
      "execution_count": null
    },
    {
      "cell_type": "markdown",
      "source": [
        " ### Гражданство ***reviewer_nationality***"
      ],
      "metadata": {
        "id": "PsCqNG3WE5H1"
      }
    },
    {
      "cell_type": "code",
      "source": [
        "data['reviewer_nationality'].value_counts()"
      ],
      "metadata": {
        "trusted": true,
        "execution": {
          "iopub.status.busy": "2025-05-04T17:11:56.401959Z",
          "iopub.execute_input": "2025-05-04T17:11:56.402217Z",
          "iopub.status.idle": "2025-05-04T17:11:56.451407Z",
          "shell.execute_reply.started": "2025-05-04T17:11:56.402188Z",
          "shell.execute_reply": "2025-05-04T17:11:56.450585Z"
        },
        "id": "uM1J9rDwE5H1"
      },
      "outputs": [],
      "execution_count": null
    },
    {
      "cell_type": "code",
      "source": [
        "# Создаем признак - является ли посетитель отеля гражданином страны, в которой расположен отель\n",
        "data['is_citizen']=data.apply(lambda x: 1 if x['reviewer_nationality'].strip()==x['hotel_country'] else 0, axis=1)\n",
        "\n",
        "# Разделим гражданство на категории\n",
        "def nationality(args):\n",
        "    if 'United Kingdom' in args:\n",
        "        return 'Br'\n",
        "    if 'United States of America' in args:\n",
        "        return 'Am'\n",
        "    else:\n",
        "        return 'other'\n",
        "\n",
        "data['nationality']=data['reviewer_nationality'].apply(nationality)"
      ],
      "metadata": {
        "trusted": true,
        "execution": {
          "iopub.status.busy": "2025-05-04T17:11:56.452677Z",
          "iopub.execute_input": "2025-05-04T17:11:56.452916Z",
          "iopub.status.idle": "2025-05-04T17:12:03.866965Z",
          "shell.execute_reply.started": "2025-05-04T17:11:56.452879Z",
          "shell.execute_reply": "2025-05-04T17:12:03.866143Z"
        },
        "id": "cMN9HV79E5H1"
      },
      "outputs": [],
      "execution_count": null
    },
    {
      "cell_type": "code",
      "source": [
        "# Закодируем hotel_city и nationality\n",
        "data = pd.get_dummies(data, columns=['hotel_city','nationality'])\n",
        "# Удалим лишние признаки\n",
        "data.drop([ 'nationality_other','reviewer_nationality', 'hotel_country','hotel_address'], axis=1, inplace=True)"
      ],
      "metadata": {
        "trusted": true,
        "execution": {
          "iopub.status.busy": "2025-05-04T17:12:03.868073Z",
          "iopub.execute_input": "2025-05-04T17:12:03.868296Z",
          "iopub.status.idle": "2025-05-04T17:12:04.450332Z",
          "shell.execute_reply.started": "2025-05-04T17:12:03.868268Z",
          "shell.execute_reply": "2025-05-04T17:12:04.449556Z"
        },
        "id": "GUOhXTr9E5H4"
      },
      "outputs": [],
      "execution_count": null
    },
    {
      "cell_type": "code",
      "source": [
        "data.info()"
      ],
      "metadata": {
        "trusted": true,
        "execution": {
          "iopub.status.busy": "2025-05-04T17:12:04.451507Z",
          "iopub.execute_input": "2025-05-04T17:12:04.451781Z",
          "iopub.status.idle": "2025-05-04T17:12:04.634909Z",
          "shell.execute_reply.started": "2025-05-04T17:12:04.451752Z",
          "shell.execute_reply": "2025-05-04T17:12:04.633976Z"
        },
        "id": "pUUDgON1E5H4"
      },
      "outputs": [],
      "execution_count": null
    },
    {
      "cell_type": "markdown",
      "source": [
        "### 2.2. Разбор даты"
      ],
      "metadata": {
        "id": "TSdTcPnzE5H4"
      }
    },
    {
      "cell_type": "code",
      "source": [
        "# Сперва изменим тип представленных в столбце данных.\n",
        "data['review_date'] = pd.to_datetime(data['review_date'])"
      ],
      "metadata": {
        "trusted": true,
        "execution": {
          "iopub.status.busy": "2025-05-04T17:12:04.635932Z",
          "iopub.execute_input": "2025-05-04T17:12:04.636144Z",
          "iopub.status.idle": "2025-05-04T17:12:04.797083Z",
          "shell.execute_reply.started": "2025-05-04T17:12:04.636118Z",
          "shell.execute_reply": "2025-05-04T17:12:04.796408Z"
        },
        "id": "jkAiP81tE5H9"
      },
      "outputs": [],
      "execution_count": null
    },
    {
      "cell_type": "code",
      "source": [
        "# Разделим даты на кварталы\n",
        "data['review_quarter'] = data['review_date'].dt.quarter"
      ],
      "metadata": {
        "trusted": true,
        "execution": {
          "iopub.status.busy": "2025-05-04T17:12:04.798199Z",
          "iopub.execute_input": "2025-05-04T17:12:04.798434Z",
          "iopub.status.idle": "2025-05-04T17:12:04.845802Z",
          "shell.execute_reply.started": "2025-05-04T17:12:04.798405Z",
          "shell.execute_reply": "2025-05-04T17:12:04.845126Z"
        },
        "id": "Js4U27AYE5H9"
      },
      "outputs": [],
      "execution_count": null
    },
    {
      "cell_type": "code",
      "source": [
        "# Визуализируем зависимости количества отзывов и средних оценок от сезона.\n",
        "quarter = data[data['sample']==1].pivot_table(values='reviewer_score', index='review_quarter', aggfunc=['mean','count'])\n",
        "\n",
        "fig,axes = plt.subplots(1, 2, figsize=(15, 4))\n",
        "\n",
        "sns.barplot(x=quarter.index, y=quarter[('count', 'reviewer_score')], ax=axes[0], color='green')\n",
        "axes[0].set_ylabel('Количество отзывов', fontsize = 12)\n",
        "axes[0].tick_params(axis='x', rotation=75)\n",
        "axes[0].set_xlabel('Квартал',  fontsize = 12)\n",
        "axes[0].tick_params(axis='both', which='major', labelsize=9)\n",
        "axes[0].grid();\n",
        "\n",
        "sns.barplot(x=quarter.index, y=quarter[('mean', 'reviewer_score')], ax=axes[1], color='lightgreen')\n",
        "axes[1].set_ylabel('Средняя оценка', fontsize = 12);\n",
        "axes[1].tick_params(axis='x', rotation=75)\n",
        "axes[1].set_xlabel('Квартал', fontsize = 12)\n",
        "axes[1].tick_params(axis='both', which='major', labelsize=9)\n",
        "plt.ylim(8, 8.7)\n",
        "axes[1].grid();"
      ],
      "metadata": {
        "trusted": true,
        "execution": {
          "iopub.status.busy": "2025-05-04T17:12:04.846913Z",
          "iopub.execute_input": "2025-05-04T17:12:04.847131Z",
          "iopub.status.idle": "2025-05-04T17:12:05.285161Z",
          "shell.execute_reply.started": "2025-05-04T17:12:04.847104Z",
          "shell.execute_reply": "2025-05-04T17:12:05.284325Z"
        },
        "id": "J3TVcJZ-E5H9"
      },
      "outputs": [],
      "execution_count": null
    },
    {
      "cell_type": "markdown",
      "source": [
        "- Наибольшее количество отзывов наблюдается в 3 квартале, то есть с июля по сентябрь. Это может быть связано с периодом отпусков, поэтому отели в этот сезон имеют большой спрос.\n",
        "- Средняя оценка по кварталам немного отличается. Вероятно признак с номером квартала будет полезен при машинном обучении"
      ],
      "metadata": {
        "id": "18PHxZ88E5H9"
      }
    },
    {
      "cell_type": "code",
      "source": [
        "# Разделим даты по годам\n",
        "data['year'] = data['review_date'].dt.year"
      ],
      "metadata": {
        "trusted": true,
        "execution": {
          "iopub.status.busy": "2025-05-04T17:12:05.286515Z",
          "iopub.execute_input": "2025-05-04T17:12:05.286855Z",
          "iopub.status.idle": "2025-05-04T17:12:05.332951Z",
          "shell.execute_reply.started": "2025-05-04T17:12:05.286813Z",
          "shell.execute_reply": "2025-05-04T17:12:05.332117Z"
        },
        "id": "8hX1FKr4E5H9"
      },
      "outputs": [],
      "execution_count": null
    },
    {
      "cell_type": "code",
      "source": [
        "# Визуализируем зависимости количества отзывов и средних оценок от сезона.\n",
        "quarter = data[data['sample']==1].pivot_table(values='reviewer_score', index='year', aggfunc=['mean','count'])\n",
        "\n",
        "fig,axes = plt.subplots(1, 2, figsize=(15, 4))\n",
        "\n",
        "sns.barplot(x=quarter.index, y=quarter[('count', 'reviewer_score')], ax=axes[0], color='blue')\n",
        "axes[0].set_ylabel('Количество отзывов', fontsize = 14)\n",
        "axes[0].set_xlabel('Год',  fontsize = 14)\n",
        "axes[0].tick_params(axis='both', which='major', labelsize=9)\n",
        "axes[0].grid();\n",
        "\n",
        "sns.barplot(x=quarter.index, y=quarter[('mean', 'reviewer_score')], ax=axes[1], color='lightblue')\n",
        "axes[1].set_ylabel('Средняя оценка', fontsize = 14);\n",
        "axes[1].set_xlabel('Год', fontsize = 14)\n",
        "axes[1].tick_params(axis='both', which='major', labelsize=9)\n",
        "plt.ylim(8, 8.7)\n",
        "axes[1].grid();"
      ],
      "metadata": {
        "trusted": true,
        "execution": {
          "iopub.status.busy": "2025-05-04T17:12:05.334124Z",
          "iopub.execute_input": "2025-05-04T17:12:05.33436Z",
          "iopub.status.idle": "2025-05-04T17:12:05.763721Z",
          "shell.execute_reply.started": "2025-05-04T17:12:05.334333Z",
          "shell.execute_reply": "2025-05-04T17:12:05.762908Z"
        },
        "id": "sKYmmUBVE5H-"
      },
      "outputs": [],
      "execution_count": null
    },
    {
      "cell_type": "markdown",
      "source": [
        "- В данных виден явный перекос в 2016 году по количеству отзывов\n",
        "- Признак года также влияет и на среднюю оценку пользователя"
      ],
      "metadata": {
        "id": "zbdkEicbE5H-"
      }
    },
    {
      "cell_type": "code",
      "source": [
        "# Закодируем признак года:\n",
        "\n",
        "year_mapping = {2015: 0, 2016: 1, 2017: 2}\n",
        "data['year'] = data['year'].map(year_mapping)"
      ],
      "metadata": {
        "trusted": true,
        "execution": {
          "iopub.status.busy": "2025-05-04T17:12:05.765121Z",
          "iopub.execute_input": "2025-05-04T17:12:05.765658Z",
          "iopub.status.idle": "2025-05-04T17:12:05.778129Z",
          "shell.execute_reply.started": "2025-05-04T17:12:05.765612Z",
          "shell.execute_reply": "2025-05-04T17:12:05.777368Z"
        },
        "id": "vHFwUh09E5H-"
      },
      "outputs": [],
      "execution_count": null
    },
    {
      "cell_type": "code",
      "source": [
        "# Удалим обработанный признак.\n",
        "data.drop(['review_date'], axis=1, inplace=True)"
      ],
      "metadata": {
        "trusted": true,
        "execution": {
          "iopub.status.busy": "2025-05-04T17:12:05.779369Z",
          "iopub.execute_input": "2025-05-04T17:12:05.779785Z",
          "iopub.status.idle": "2025-05-04T17:12:05.83127Z",
          "shell.execute_reply.started": "2025-05-04T17:12:05.779739Z",
          "shell.execute_reply": "2025-05-04T17:12:05.830531Z"
        },
        "id": "gYUSs-gFE5H-"
      },
      "outputs": [],
      "execution_count": null
    },
    {
      "cell_type": "code",
      "source": [
        "# Берем из days_since_review количество дней\n",
        "data['days_since_review'] = data['days_since_review'].apply(lambda x: int(x.split()[0]))\n",
        "correlation = data['days_since_review'].corr(data['reviewer_score'])\n",
        "print(f'Корреляция между days_since_review и reviewer_score: {correlation:.5f}')\n"
      ],
      "metadata": {
        "trusted": true,
        "execution": {
          "iopub.status.busy": "2025-05-04T17:12:05.832446Z",
          "iopub.execute_input": "2025-05-04T17:12:05.832681Z",
          "iopub.status.idle": "2025-05-04T17:12:06.248351Z",
          "shell.execute_reply.started": "2025-05-04T17:12:05.832654Z",
          "shell.execute_reply": "2025-05-04T17:12:06.24749Z"
        },
        "id": "l-lHoRJfE5H_"
      },
      "outputs": [],
      "execution_count": null
    },
    {
      "cell_type": "markdown",
      "source": [
        "Поскольку корреляция рейтинга отелей и признака *days_since_review* очень мала и совсем непонятно, для чего этот признак нужен, то следует избавиться от него"
      ],
      "metadata": {
        "id": "4WVo1v0rE5H_"
      }
    },
    {
      "cell_type": "code",
      "source": [
        "# Удалим неинформативный признак\n",
        "data.drop(['days_since_review'], axis=1, inplace=True)"
      ],
      "metadata": {
        "trusted": true,
        "execution": {
          "iopub.status.busy": "2025-05-04T17:12:06.249504Z",
          "iopub.execute_input": "2025-05-04T17:12:06.249783Z",
          "iopub.status.idle": "2025-05-04T17:12:06.309627Z",
          "shell.execute_reply.started": "2025-05-04T17:12:06.249754Z",
          "shell.execute_reply": "2025-05-04T17:12:06.308963Z"
        },
        "id": "DjcQxKCDE5H_"
      },
      "outputs": [],
      "execution_count": null
    },
    {
      "cell_type": "markdown",
      "source": [
        "### 2.3. Количество оценок и отзывов"
      ],
      "metadata": {
        "id": "hRDYNleOE5H_"
      }
    },
    {
      "cell_type": "code",
      "source": [
        "fig = plt.figure(figsize=(12,10))\n",
        "numeric_data = data.select_dtypes(include=['number'])\n",
        "corr_matrix = numeric_data.corr()\n",
        "\n",
        "sns.heatmap(corr_matrix, annot=True, fmt='.2f')"
      ],
      "metadata": {
        "trusted": true,
        "execution": {
          "iopub.status.busy": "2025-05-04T17:12:06.310879Z",
          "iopub.execute_input": "2025-05-04T17:12:06.311205Z",
          "iopub.status.idle": "2025-05-04T17:12:09.654903Z",
          "shell.execute_reply.started": "2025-05-04T17:12:06.311164Z",
          "shell.execute_reply": "2025-05-04T17:12:09.654109Z"
        },
        "id": "UGlGhl5qE5H_"
      },
      "outputs": [],
      "execution_count": null
    },
    {
      "cell_type": "markdown",
      "source": [
        "### 2.4. Обработка тегов"
      ],
      "metadata": {
        "id": "0yDRmN54E5IA"
      }
    },
    {
      "cell_type": "code",
      "source": [
        "# Посчитаем и взглянем на топовые теги.\n",
        "tags_cntr = Counter(data['tags'].explode())\n",
        "tags = pd.Series(tags_cntr)\n",
        "tags.sort_values(ascending=False)[:15]"
      ],
      "metadata": {
        "trusted": true,
        "execution": {
          "iopub.status.busy": "2025-05-04T17:12:09.656267Z",
          "iopub.execute_input": "2025-05-04T17:12:09.656551Z",
          "iopub.status.idle": "2025-05-04T17:12:09.863523Z",
          "shell.execute_reply.started": "2025-05-04T17:12:09.656515Z",
          "shell.execute_reply": "2025-05-04T17:12:09.862755Z"
        },
        "id": "Gt-bEXViE5IA"
      },
      "outputs": [],
      "execution_count": null
    },
    {
      "cell_type": "code",
      "source": [
        "# Напишем функцию, преобразующую строковые значения в ячейках столбца\n",
        "# с тегами и возвращающую их в форме списка.\n",
        "def func_for_tags(string):\n",
        "    string = string[3:-3]\n",
        "    result = list(string.split(\" ', ' \"))\n",
        "    return result\n",
        "\n",
        "data['tags'] = data['tags'].apply(func_for_tags)\n",
        "\n",
        "\n",
        "print(f\"Число уникальных тегов: {len(data['tags'].explode().unique())}\")"
      ],
      "metadata": {
        "trusted": true,
        "execution": {
          "iopub.status.busy": "2025-05-04T17:12:09.864983Z",
          "iopub.execute_input": "2025-05-04T17:12:09.865606Z",
          "iopub.status.idle": "2025-05-04T17:12:10.930945Z",
          "shell.execute_reply.started": "2025-05-04T17:12:09.865534Z",
          "shell.execute_reply": "2025-05-04T17:12:10.929934Z"
        },
        "id": "rSI94CWFE5IA"
      },
      "outputs": [],
      "execution_count": null
    },
    {
      "cell_type": "code",
      "source": [
        "# Создадим признак определяющий тип поездки Business или Leisure trip\n",
        "def trip(line: list) -> int:\n",
        "    if 'Business trip' in line:\n",
        "        return 'Командировка'\n",
        "    if 'Leisure trip' in line:\n",
        "        return 'Отдых'\n",
        "    else:\n",
        "        return 'Отсутствует'\n",
        "\n",
        "data['trip']=data['tags'].apply(trip)\n",
        "\n",
        "\n",
        "# Создадим признак определяющий состав заселяющихся в номер.\n",
        "def comp_checker(line: list) -> int:\n",
        "    if 'Solo traveler' in line:\n",
        "        return 1\n",
        "    if 'Couple' in line:\n",
        "        return 2\n",
        "    if 'Group' in line or 'Travelers with friends' in line:\n",
        "        return 3\n",
        "    if 'Family with young children' in line or 'Family with older children' in line:\n",
        "        return 4\n",
        "\n",
        "data['company']=data['tags'].apply(comp_checker)\n",
        "\n",
        "# Создадим признак - отправил ли рецензент свой отзыв через телефон.\n",
        "data['submit'] = data['tags'].apply(lambda x: 1 if 'Submitted from a mobile device' in x else 0)"
      ],
      "metadata": {
        "trusted": true,
        "execution": {
          "iopub.status.busy": "2025-05-04T17:12:10.932089Z",
          "iopub.execute_input": "2025-05-04T17:12:10.932313Z",
          "iopub.status.idle": "2025-05-04T17:12:11.551064Z",
          "shell.execute_reply.started": "2025-05-04T17:12:10.932285Z",
          "shell.execute_reply": "2025-05-04T17:12:11.550252Z"
        },
        "id": "Gcrx3ozIE5IB"
      },
      "outputs": [],
      "execution_count": null
    },
    {
      "cell_type": "code",
      "source": [
        "trip_types_pivot = pd.pivot_table(data=data[data['sample']==1],\n",
        "    index='trip', values='reviewer_score', aggfunc=['mean'])\n",
        "\n",
        "fig, (ax1, ax2) = plt.subplots(1, 2, figsize=(14, 4))\n",
        "\n",
        "trip_types_count = data['trip'].value_counts()\n",
        "ax1.pie(trip_types_count, labels=['Отдых', 'Командировка','Отсутствует'], autopct='%1.1f%%', startangle=90)\n",
        "ax1.set_title('Тип поездки', fontsize=14)\n",
        "\n",
        "sns.barplot(x=trip_types_pivot.index, y=trip_types_pivot[('mean', 'reviewer_score')], ax=ax2)\n",
        "ax2.set_title('Зависимость среднего рейтинга от типа поездки',  fontsize=14,pad=20)\n",
        "ax2.set_ylabel('Средний рейтинг', fontsize=12)\n",
        "ax2.set_xlabel('Тип поездки', fontsize=12)\n",
        "plt.ylim(7.5, 9);"
      ],
      "metadata": {
        "trusted": true,
        "execution": {
          "iopub.status.busy": "2025-05-04T17:12:11.552433Z",
          "iopub.execute_input": "2025-05-04T17:12:11.553304Z",
          "iopub.status.idle": "2025-05-04T17:12:12.048718Z",
          "shell.execute_reply.started": "2025-05-04T17:12:11.553255Z",
          "shell.execute_reply": "2025-05-04T17:12:12.047927Z"
        },
        "id": "jou2xC_oE5IB"
      },
      "outputs": [],
      "execution_count": null
    },
    {
      "cell_type": "markdown",
      "source": [
        "Наблюдается зависимость между типом поездки и рейтингом отеля :\n",
        "- Преобладающая цель поездки-отдых (81%).\n",
        "- Люди, приехавшие отдохнуть, в среднем ставят оценку выше, чем те, кто в командировке."
      ],
      "metadata": {
        "id": "IlGcWeM3E5IB"
      }
    },
    {
      "cell_type": "code",
      "source": [
        "# Сделаем признак количество ночей:\n",
        "\n",
        "import re\n",
        "\n",
        "def extract_count_night(string):\n",
        "    regex = r'Stayed (\\d+) night[s]?'\n",
        "    string = str(string)\n",
        "    result = re.search(regex, string)\n",
        "    if result is None:\n",
        "        return 0\n",
        "    else:\n",
        "        return int(result.group(1))\n",
        "\n",
        "data['night'] = data['tags'].map(extract_count_night)\n",
        "data['night'].value_counts().head()"
      ],
      "metadata": {
        "trusted": true,
        "execution": {
          "iopub.status.busy": "2025-05-04T17:12:12.050125Z",
          "iopub.execute_input": "2025-05-04T17:12:12.050871Z",
          "iopub.status.idle": "2025-05-04T17:12:13.734979Z",
          "shell.execute_reply.started": "2025-05-04T17:12:12.050813Z",
          "shell.execute_reply": "2025-05-04T17:12:13.734167Z"
        },
        "id": "KvRf2-MPE5IB"
      },
      "outputs": [],
      "execution_count": null
    },
    {
      "cell_type": "code",
      "source": [
        "comp_type_pivot = pd.pivot_table(data=data[data['sample']==1],\n",
        "    index='company', values='reviewer_score', aggfunc=['mean'])\n",
        "\n",
        "fig, (ax1, ax2) = plt.subplots(1, 2, figsize=(14, 4))\n",
        "\n",
        "com_types_count = data['company'].value_counts()\n",
        "ax1.pie(com_types_count, labels=['Пара', 'Одинокий', 'Семья', 'Группа'], autopct='%1.1f%%', startangle=90)\n",
        "ax1.set_title('Тип пользователя', fontsize=14)\n",
        "\n",
        "sns.barplot(x=comp_type_pivot.index, y=comp_type_pivot[('mean', 'reviewer_score')], ax=ax2, order=[2,1,4,3])\n",
        "ax2.set_title('Зависимость среднего рейтинга от типа пользователя',  fontsize=14, pad=20)\n",
        "ax2.set_ylabel('Средний рейтинг', fontsize=12)\n",
        "ax2.set_xlabel('Тип пользователя', fontsize=12)\n",
        "plt.ylim(8, 9);"
      ],
      "metadata": {
        "trusted": true,
        "execution": {
          "iopub.status.busy": "2025-05-04T17:12:13.736219Z",
          "iopub.execute_input": "2025-05-04T17:12:13.736456Z",
          "iopub.status.idle": "2025-05-04T17:12:14.112842Z",
          "shell.execute_reply.started": "2025-05-04T17:12:13.736428Z",
          "shell.execute_reply": "2025-05-04T17:12:14.112084Z"
        },
        "id": "voCF6PxJE5IC"
      },
      "outputs": [],
      "execution_count": null
    },
    {
      "cell_type": "markdown",
      "source": [
        "Наблюдается явное влияние окружения пользователя на оценку, которую он выставляет, а именно:\n",
        "- Половина пользователей предпочитает отдыхать вдвоем и ставит наибольший рейтинг.\n",
        "- Высокий балл ставят люди , отдыхающие в группе.\n",
        "- Одиноким людям обычно все не нравятся, и они ставят низкий балл."
      ],
      "metadata": {
        "id": "4mst6WWgE5IC"
      }
    },
    {
      "cell_type": "code",
      "source": [
        "fig, ax = plt.subplots(figsize=(15, 4))\n",
        "sns.countplot(x=data['night'], color='lightgreen')\n",
        "ax.set_title('Распределение числа ночей проведенных в номерах отелей',  size=15,pad=20)\n",
        "ax.set_ylabel('Частота', fontsize = 12, labelpad=10)\n",
        "ax.set_xlabel('Число ночей', fontsize = 12,labelpad=10);"
      ],
      "metadata": {
        "trusted": true,
        "execution": {
          "iopub.status.busy": "2025-05-04T17:12:14.114142Z",
          "iopub.execute_input": "2025-05-04T17:12:14.114381Z",
          "iopub.status.idle": "2025-05-04T17:12:14.649926Z",
          "shell.execute_reply.started": "2025-05-04T17:12:14.114353Z",
          "shell.execute_reply": "2025-05-04T17:12:14.649288Z"
        },
        "id": "TTOwsIfoE5IC"
      },
      "outputs": [],
      "execution_count": null
    },
    {
      "cell_type": "markdown",
      "source": [
        "- Наблюдается равномерное падение числа ночей проведенных в отеле.\n",
        "- Большинство отелей рассматривается с целью переночевать на одну ночь, а не отдохнуть на несколько дней."
      ],
      "metadata": {
        "id": "SRQ23Z1gE5IC"
      }
    },
    {
      "cell_type": "code",
      "source": [
        "pivot_nights = pd.pivot_table(data=data[data['sample']==1],\n",
        "    index='night', values='reviewer_score', aggfunc=['mean'])\n",
        "\n",
        "fig1, ax1 = plt.subplots(figsize=(15, 4))\n",
        "plt.suptitle('Средняя оценка в завивисимости от кол-ва проведенных ночей', size=15)\n",
        "sns.barplot(x=pivot_nights.index, y=pivot_nights[('mean', 'reviewer_score')], color='lightblue')\n",
        "plt.xlabel('Количество проведенных ночей', fontsize = 12)\n",
        "plt.ylabel('Средний отзыв', fontsize = 12)\n",
        "plt.ylim(7, 9.5);"
      ],
      "metadata": {
        "trusted": true,
        "execution": {
          "iopub.status.busy": "2025-05-04T17:12:14.651297Z",
          "iopub.execute_input": "2025-05-04T17:12:14.652054Z",
          "iopub.status.idle": "2025-05-04T17:12:15.223067Z",
          "shell.execute_reply.started": "2025-05-04T17:12:14.652007Z",
          "shell.execute_reply": "2025-05-04T17:12:15.222229Z"
        },
        "id": "hocAzWzbE5IC"
      },
      "outputs": [],
      "execution_count": null
    },
    {
      "cell_type": "markdown",
      "source": [
        "Явной зависимости средней оценки в зависимости от количества дней - нет. Но после 13го дня отличия налицо, есть вероятность, что данный признак повлияет на улучшение предсказания."
      ],
      "metadata": {
        "id": "vWfCWi75E5ID"
      }
    },
    {
      "cell_type": "code",
      "source": [
        "smd_from_mob_pivot = pd.pivot_table(data=data[data['sample']==1],\n",
        "    index='submit', values='reviewer_score', aggfunc=['mean'])\n",
        "\n",
        "fig, (ax1, ax2) = plt.subplots(1, 2, figsize=(14, 4))\n",
        "\n",
        "smd_type = data['submit'].value_counts()\n",
        "ax1.pie(smd_type, labels=['с телефона', 'с компьютера'], autopct='%1.1f%%', startangle=90)\n",
        "ax1.set_title('Отзыв отправлен', fontsize=14)\n",
        "\n",
        "sns.barplot(x=smd_from_mob_pivot.index, y=smd_from_mob_pivot[('mean', 'reviewer_score')], ax=ax2, order=[1, 0])\n",
        "ax2.set_title('Зависимость среднего рейтинга\\nот способа отправки отзыва',  fontsize=14)\n",
        "ax2.set_ylabel('Средний рейтинг', fontsize=12)\n",
        "ax2.set_xlabel('Отзыв отправлен', fontsize=12)\n",
        "ax2.grid()\n",
        "plt.ylim(8, 9);"
      ],
      "metadata": {
        "trusted": true,
        "execution": {
          "iopub.status.busy": "2025-05-04T17:12:15.22426Z",
          "iopub.execute_input": "2025-05-04T17:12:15.224495Z",
          "iopub.status.idle": "2025-05-04T17:12:15.561783Z",
          "shell.execute_reply.started": "2025-05-04T17:12:15.224465Z",
          "shell.execute_reply": "2025-05-04T17:12:15.560956Z"
        },
        "id": "bPc8Vo78E5ID"
      },
      "outputs": [],
      "execution_count": null
    },
    {
      "cell_type": "markdown",
      "source": [
        "- Средний рейтинг у пользователей, которые отправили отзыв с телефона, несущественно выше."
      ],
      "metadata": {
        "id": "hxf61zjkE5ID"
      }
    },
    {
      "cell_type": "code",
      "source": [
        "# Удалим обработанный признак.\n",
        "data.drop(['tags'], axis=1, inplace=True)"
      ],
      "metadata": {
        "trusted": true,
        "execution": {
          "iopub.status.busy": "2025-05-04T17:12:15.563162Z",
          "iopub.execute_input": "2025-05-04T17:12:15.56347Z",
          "iopub.status.idle": "2025-05-04T17:12:15.689064Z",
          "shell.execute_reply.started": "2025-05-04T17:12:15.563427Z",
          "shell.execute_reply": "2025-05-04T17:12:15.688124Z"
        },
        "id": "LYGJZ7ykE5ID"
      },
      "outputs": [],
      "execution_count": null
    },
    {
      "cell_type": "code",
      "source": [
        "# Закодируем trip,company\n",
        "data = pd.get_dummies(data, columns=['trip','company'])\n",
        "\n",
        "# Удалим лишние признаки\n",
        "#data.drop(['submit'], axis=1, inplace=True)\n"
      ],
      "metadata": {
        "trusted": true,
        "execution": {
          "iopub.status.busy": "2025-05-04T17:12:15.690421Z",
          "iopub.execute_input": "2025-05-04T17:12:15.69075Z",
          "iopub.status.idle": "2025-05-04T17:12:15.849986Z",
          "shell.execute_reply.started": "2025-05-04T17:12:15.690708Z",
          "shell.execute_reply": "2025-05-04T17:12:15.849308Z"
        },
        "id": "HnQkRQ87E5ID"
      },
      "outputs": [],
      "execution_count": null
    },
    {
      "cell_type": "code",
      "source": [
        "# Удалим неинформативный признак\n",
        "data.drop(['trip_Отсутствует'], axis=1, inplace=True)"
      ],
      "metadata": {
        "trusted": true,
        "execution": {
          "iopub.status.busy": "2025-05-04T17:12:15.851235Z",
          "iopub.execute_input": "2025-05-04T17:12:15.851855Z",
          "iopub.status.idle": "2025-05-04T17:12:15.954734Z",
          "shell.execute_reply.started": "2025-05-04T17:12:15.851808Z",
          "shell.execute_reply": "2025-05-04T17:12:15.954063Z"
        },
        "id": "qA1PJ9_SE5IE"
      },
      "outputs": [],
      "execution_count": null
    },
    {
      "cell_type": "markdown",
      "source": [
        "### 2.5. Обработка отзывов"
      ],
      "metadata": {
        "id": "oIRyqZAZE5IE"
      }
    },
    {
      "cell_type": "code",
      "source": [
        "data['negative_review'].value_counts()"
      ],
      "metadata": {
        "trusted": true,
        "execution": {
          "iopub.status.busy": "2025-05-04T17:12:15.956212Z",
          "iopub.execute_input": "2025-05-04T17:12:15.956495Z",
          "iopub.status.idle": "2025-05-04T17:12:16.217224Z",
          "shell.execute_reply.started": "2025-05-04T17:12:15.956465Z",
          "shell.execute_reply": "2025-05-04T17:12:16.21635Z"
        },
        "id": "dTWGOuW0E5IE"
      },
      "outputs": [],
      "execution_count": null
    },
    {
      "cell_type": "code",
      "source": [
        "# Создадим признак определяющий есть ли негативный отзыв\n",
        "\n",
        "def negative_normalize(text):\n",
        "\n",
        "    negative_variants = [\n",
        "        '', 'n a', 'na', 'none', 'nada', ' ', 'loved everything',\n",
        "        'nil', 'can t think of anything', 'everything was perfect',\n",
        "        'everything was great', 'all good', 'leaving', 'see above',\n",
        "        'non', 'everything was good', 'i liked everything', 'we liked everything',\n",
        "        'all was good', 'liked everything', 'as above', 'everything was fine',\n",
        "        'liked it all', 'there wasn t anything we didn t like', 'all great'\n",
        "    ]\n",
        "\n",
        "    text_clean = text.strip().lower()\n",
        "\n",
        "    # Убираем лишние пробелы внутри строки\n",
        "\n",
        "    text_clean = ' '.join(text_clean.split())\n",
        "    text_set = set(text_clean.split())\n",
        "\n",
        "    if text_clean in negative_variants or text_set.intersection(['nothing', 'no', 'not', 'good', 'ok']):\n",
        "        return 0 # 0 - негативный отзыв отсутствует\n",
        "    else:\n",
        "        return 1 # 1 - значит отзыв действительно негативный\n",
        "\n",
        "data['negative_binary'] = data['negative_review'].map(negative_normalize)\n",
        "data['negative_binary'].value_counts()"
      ],
      "metadata": {
        "trusted": true,
        "execution": {
          "iopub.status.busy": "2025-05-04T17:12:16.218301Z",
          "iopub.execute_input": "2025-05-04T17:12:16.21852Z",
          "iopub.status.idle": "2025-05-04T17:12:19.8852Z",
          "shell.execute_reply.started": "2025-05-04T17:12:16.218492Z",
          "shell.execute_reply": "2025-05-04T17:12:19.884352Z"
        },
        "id": "R3vgdWLbE5IE"
      },
      "outputs": [],
      "execution_count": null
    },
    {
      "cell_type": "code",
      "source": [
        "data['negative_binary'].value_counts()"
      ],
      "metadata": {
        "trusted": true,
        "execution": {
          "iopub.status.busy": "2025-05-04T17:12:19.886506Z",
          "iopub.execute_input": "2025-05-04T17:12:19.887256Z",
          "iopub.status.idle": "2025-05-04T17:12:19.897239Z",
          "shell.execute_reply.started": "2025-05-04T17:12:19.887206Z",
          "shell.execute_reply": "2025-05-04T17:12:19.896457Z"
        },
        "id": "TAzzOgoDE5IE"
      },
      "outputs": [],
      "execution_count": null
    },
    {
      "cell_type": "code",
      "source": [
        "data['positive_review'].value_counts()"
      ],
      "metadata": {
        "trusted": true,
        "execution": {
          "iopub.status.busy": "2025-05-04T17:12:19.898334Z",
          "iopub.execute_input": "2025-05-04T17:12:19.898564Z",
          "iopub.status.idle": "2025-05-04T17:12:20.264246Z",
          "shell.execute_reply.started": "2025-05-04T17:12:19.898537Z",
          "shell.execute_reply": "2025-05-04T17:12:20.263379Z"
        },
        "id": "tvms1XnME5IE"
      },
      "outputs": [],
      "execution_count": null
    },
    {
      "cell_type": "code",
      "source": [
        "# Создадим признак определяющий позитивный отзыв\n",
        "\n",
        "def pozitive_normalize(text):\n",
        "\n",
        "    text_clean = text.strip().lower()\n",
        "\n",
        "    # Убираем лишние пробелы внутри строки\n",
        "    text_clean = ' '.join(text_clean.split())\n",
        "    text_set = set(text_clean.split())\n",
        "\n",
        "    if text_set.intersection(['nothing', 'no', 'not', 'bad', 'upset', 'awful']):\n",
        "        return 0 # В позитивном отзыве либо пусто, либо негативные слова\n",
        "    else:\n",
        "        return 1 # Отзыв дествительно позитивный\n",
        "\n",
        "data['positive_binary'] = data['positive_review'].map(pozitive_normalize)\n",
        "data['positive_binary'].value_counts()"
      ],
      "metadata": {
        "trusted": true,
        "execution": {
          "iopub.status.busy": "2025-05-04T17:12:20.265376Z",
          "iopub.execute_input": "2025-05-04T17:12:20.265621Z",
          "iopub.status.idle": "2025-05-04T17:12:23.434438Z",
          "shell.execute_reply.started": "2025-05-04T17:12:20.265592Z",
          "shell.execute_reply": "2025-05-04T17:12:23.433532Z"
        },
        "id": "DgT-CBRrE5IF"
      },
      "outputs": [],
      "execution_count": null
    },
    {
      "cell_type": "code",
      "source": [
        "data['positive_binary'].value_counts()"
      ],
      "metadata": {
        "trusted": true,
        "execution": {
          "iopub.status.busy": "2025-05-04T17:12:23.435557Z",
          "iopub.execute_input": "2025-05-04T17:12:23.435803Z",
          "iopub.status.idle": "2025-05-04T17:12:23.446022Z",
          "shell.execute_reply.started": "2025-05-04T17:12:23.435777Z",
          "shell.execute_reply": "2025-05-04T17:12:23.445182Z"
        },
        "id": "9Uqf5S0hE5IF"
      },
      "outputs": [],
      "execution_count": null
    },
    {
      "cell_type": "code",
      "source": [
        "# Удалим лишние признаки\n",
        "data.drop(['positive_review','negative_review'], axis=1, inplace=True)"
      ],
      "metadata": {
        "trusted": true,
        "execution": {
          "iopub.status.busy": "2025-05-04T17:12:23.44745Z",
          "iopub.execute_input": "2025-05-04T17:12:23.447783Z",
          "iopub.status.idle": "2025-05-04T17:12:23.499419Z",
          "shell.execute_reply.started": "2025-05-04T17:12:23.447742Z",
          "shell.execute_reply": "2025-05-04T17:12:23.498773Z"
        },
        "id": "q2CzeOkHE5IF"
      },
      "outputs": [],
      "execution_count": null
    },
    {
      "cell_type": "markdown",
      "source": [
        "### 2.6 Наименование отеля"
      ],
      "metadata": {
        "id": "nuwOmtrRE5IF"
      }
    },
    {
      "cell_type": "code",
      "source": [
        "data['hotel_name'].value_counts()"
      ],
      "metadata": {
        "trusted": true,
        "execution": {
          "iopub.status.busy": "2025-05-04T17:12:23.500639Z",
          "iopub.execute_input": "2025-05-04T17:12:23.501351Z",
          "iopub.status.idle": "2025-05-04T17:12:23.552294Z",
          "shell.execute_reply.started": "2025-05-04T17:12:23.501302Z",
          "shell.execute_reply": "2025-05-04T17:12:23.551437Z"
        },
        "id": "Vmv-d_DsE5IF"
      },
      "outputs": [],
      "execution_count": null
    },
    {
      "cell_type": "code",
      "source": [
        "# Создадим признак определяющий позитивный отзыв\n",
        "def hotel_name(args):\n",
        "    if 'Britannia International Hotel Canary Wharf' in args or 'Strand Palace Hotel' in args or 'Park Plaza Westminster Bridge London' in args :\n",
        "        return 1\n",
        "    if 'Copthorne Tara Hotel London Kensington' in args or 'DoubleTree by Hilton Hotel London Tower of London' in args:\n",
        "        return 2\n",
        "    else:\n",
        "        return 0\n",
        "\n",
        "data['name']=data['hotel_name'].apply(hotel_name)"
      ],
      "metadata": {
        "trusted": true,
        "execution": {
          "iopub.status.busy": "2025-05-04T17:12:23.55341Z",
          "iopub.execute_input": "2025-05-04T17:12:23.55367Z",
          "iopub.status.idle": "2025-05-04T17:12:23.798513Z",
          "shell.execute_reply.started": "2025-05-04T17:12:23.553641Z",
          "shell.execute_reply": "2025-05-04T17:12:23.797734Z"
        },
        "id": "FfsmvzLiE5IF"
      },
      "outputs": [],
      "execution_count": null
    },
    {
      "cell_type": "code",
      "source": [
        "data['name'].value_counts()"
      ],
      "metadata": {
        "trusted": true,
        "execution": {
          "iopub.status.busy": "2025-05-04T17:12:23.79952Z",
          "iopub.execute_input": "2025-05-04T17:12:23.799761Z",
          "iopub.status.idle": "2025-05-04T17:12:23.809878Z",
          "shell.execute_reply.started": "2025-05-04T17:12:23.799733Z",
          "shell.execute_reply": "2025-05-04T17:12:23.809132Z"
        },
        "id": "H9SbriBcE5IG"
      },
      "outputs": [],
      "execution_count": null
    },
    {
      "cell_type": "code",
      "source": [
        "# Закодируем name\n",
        "data = pd.get_dummies(data, columns=['name'])"
      ],
      "metadata": {
        "trusted": true,
        "execution": {
          "iopub.status.busy": "2025-05-04T17:12:23.810971Z",
          "iopub.execute_input": "2025-05-04T17:12:23.8112Z",
          "iopub.status.idle": "2025-05-04T17:12:23.891791Z",
          "shell.execute_reply.started": "2025-05-04T17:12:23.811162Z",
          "shell.execute_reply": "2025-05-04T17:12:23.890948Z"
        },
        "id": "LLzV6UbIE5IG"
      },
      "outputs": [],
      "execution_count": null
    },
    {
      "cell_type": "code",
      "source": [
        "# Удалим лишние признаки\n",
        "data.drop(['name_0'], axis=1, inplace=True)"
      ],
      "metadata": {
        "trusted": true,
        "execution": {
          "iopub.status.busy": "2025-05-04T17:12:23.892957Z",
          "iopub.execute_input": "2025-05-04T17:12:23.893194Z",
          "iopub.status.idle": "2025-05-04T17:12:23.947077Z",
          "shell.execute_reply.started": "2025-05-04T17:12:23.893157Z",
          "shell.execute_reply": "2025-05-04T17:12:23.946207Z"
        },
        "id": "NXKjUzkgE5IG"
      },
      "outputs": [],
      "execution_count": null
    },
    {
      "cell_type": "code",
      "source": [
        "# Удалим лишние признаки\n",
        "data.drop(['hotel_name'], axis=1, inplace=True)"
      ],
      "metadata": {
        "trusted": true,
        "execution": {
          "iopub.status.busy": "2025-05-04T17:12:23.948234Z",
          "iopub.execute_input": "2025-05-04T17:12:23.948458Z",
          "iopub.status.idle": "2025-05-04T17:12:23.971808Z",
          "shell.execute_reply.started": "2025-05-04T17:12:23.94843Z",
          "shell.execute_reply": "2025-05-04T17:12:23.970984Z"
        },
        "id": "MZi10rMxE5IG"
      },
      "outputs": [],
      "execution_count": null
    },
    {
      "cell_type": "markdown",
      "source": [
        "## 3. Корреляция признаков"
      ],
      "metadata": {
        "id": "rMVLzF08E5IG"
      }
    },
    {
      "cell_type": "code",
      "source": [
        "plt.rcParams['figure.figsize'] = (22,16)\n",
        "sns.heatmap(data.drop(['sample'], axis=1).corr(), annot=True, fmt='.2f')"
      ],
      "metadata": {
        "trusted": true,
        "execution": {
          "iopub.status.busy": "2025-05-04T17:12:23.972929Z",
          "iopub.execute_input": "2025-05-04T17:12:23.973169Z",
          "iopub.status.idle": "2025-05-04T17:12:31.082557Z",
          "shell.execute_reply.started": "2025-05-04T17:12:23.973131Z",
          "shell.execute_reply": "2025-05-04T17:12:31.081807Z"
        },
        "id": "s4HqaOLOE5IG"
      },
      "outputs": [],
      "execution_count": null
    },
    {
      "cell_type": "code",
      "source": [
        "# Удалим признаки с сильной корреляционной связью:\n",
        "data.drop(['hotel_city_Barcelona', 'trip_Командировка'], axis=1, inplace=True)"
      ],
      "metadata": {
        "trusted": true,
        "execution": {
          "iopub.status.busy": "2025-05-04T17:12:31.083942Z",
          "iopub.execute_input": "2025-05-04T17:12:31.084651Z",
          "iopub.status.idle": "2025-05-04T17:12:31.110482Z",
          "shell.execute_reply.started": "2025-05-04T17:12:31.084609Z",
          "shell.execute_reply": "2025-05-04T17:12:31.109766Z"
        },
        "id": "uhhk6MFLE5IG"
      },
      "outputs": [],
      "execution_count": null
    },
    {
      "cell_type": "markdown",
      "source": [
        "## 4. Нормализация данных"
      ],
      "metadata": {
        "id": "lox4iJYyE5IH"
      }
    },
    {
      "cell_type": "markdown",
      "source": [
        "Проверим числовые признаки на нормальность. Поскольку тест Шапиро-Уилка предназначен для небольших и средних выборок (до 5000 наблюдени), то воспользуемся тестом Андерсона-Дарлинга"
      ],
      "metadata": {
        "id": "U5FOGZrqE5IH"
      }
    },
    {
      "cell_type": "code",
      "source": [
        "import scipy.stats as stats\n",
        "\n",
        "# Проверка нормальности через тест Андерсона-Дарлинга\n",
        "def anderson_darling_test(data, alpha=0.05):\n",
        "\n",
        "    result = stats.anderson(data, dist='norm')\n",
        "    print(f\"Anderson-Darling: A^2 = {result.statistic:.3f}\")\n",
        "\n",
        "    # Сравниваем с критическими значениями для выбранного уровня значимости\n",
        "    critical_values = result.critical_values\n",
        "    significance_levels = result.significance_level\n",
        "\n",
        "    # Находим индекс для заданного alpha (обычно 5% = 0.05)\n",
        "    idx = np.where(significance_levels == alpha*100)[0][0]\n",
        "\n",
        "    if result.statistic > critical_values[idx]:\n",
        "        print(f\"Распределение не нормальное (AD-test на уровне {alpha})\")\n",
        "    else:\n",
        "        print(f\"Распределение нормальное (AD-test на уровне {alpha})\")"
      ],
      "metadata": {
        "trusted": true,
        "execution": {
          "iopub.status.busy": "2025-05-04T17:12:31.11155Z",
          "iopub.execute_input": "2025-05-04T17:12:31.111807Z",
          "iopub.status.idle": "2025-05-04T17:12:31.122091Z",
          "shell.execute_reply.started": "2025-05-04T17:12:31.111775Z",
          "shell.execute_reply": "2025-05-04T17:12:31.121355Z"
        },
        "id": "lGhOpW73E5IH"
      },
      "outputs": [],
      "execution_count": null
    },
    {
      "cell_type": "code",
      "source": [
        "# В переменную digit_cols запишем стоблцы, которые мы будет проверять на нормальность\n",
        "digit_cols = list(data.nunique()[data.nunique() > 4].index)\n",
        "for col in digit_cols:\n",
        "    print(col,':')\n",
        "    anderson_darling_test(data[col])\n",
        "    print('-'*40)"
      ],
      "metadata": {
        "trusted": true,
        "execution": {
          "iopub.status.busy": "2025-05-04T17:12:31.123173Z",
          "iopub.execute_input": "2025-05-04T17:12:31.123407Z",
          "iopub.status.idle": "2025-05-04T17:12:32.465922Z",
          "shell.execute_reply.started": "2025-05-04T17:12:31.123379Z",
          "shell.execute_reply": "2025-05-04T17:12:32.465078Z"
        },
        "id": "6LvEr28OE5IH"
      },
      "outputs": [],
      "execution_count": null
    },
    {
      "cell_type": "markdown",
      "source": [
        "#### Все рассматриваемые признаки не распределены нормально, поэтому займемся их нормализацией. Поскольку мы не удаляли выбросы, оптимально будет использовать *RobustScaler*"
      ],
      "metadata": {
        "id": "k_kzCIydE5IH"
      }
    },
    {
      "cell_type": "code",
      "source": [
        "from sklearn.preprocessing import RobustScaler\n",
        "\n",
        "if 'reviewer_score' in digit_cols:\n",
        "    digit_cols.remove('reviewer_score')\n",
        "\n",
        "data[digit_cols] = data[digit_cols].astype(float)\n",
        "data[digit_cols] = RobustScaler().fit_transform(data[digit_cols].values)\n"
      ],
      "metadata": {
        "trusted": true,
        "execution": {
          "iopub.status.busy": "2025-05-04T17:12:32.467294Z",
          "iopub.execute_input": "2025-05-04T17:12:32.467623Z",
          "iopub.status.idle": "2025-05-04T17:12:32.840009Z",
          "shell.execute_reply.started": "2025-05-04T17:12:32.467557Z",
          "shell.execute_reply": "2025-05-04T17:12:32.839327Z"
        },
        "id": "qGxY9uHYE5IH"
      },
      "outputs": [],
      "execution_count": null
    },
    {
      "cell_type": "markdown",
      "source": [
        "## 5. Разделение выборки на *x* и *y*, обучение модели"
      ],
      "metadata": {
        "id": "VxbVEtjrE5IH"
      }
    },
    {
      "cell_type": "code",
      "source": [
        "# убираем признаки которые еще не успели обработать,\n",
        "# модель на признаках с dtypes \"object\" обучаться не будет, просто выберим их и удалим\n",
        "object_columns = [s for s in data.columns if data[s].dtypes == 'object']\n",
        "data.drop(object_columns, axis = 1, inplace=True)"
      ],
      "metadata": {
        "trusted": true,
        "execution": {
          "iopub.status.busy": "2025-05-04T17:12:32.841074Z",
          "iopub.execute_input": "2025-05-04T17:12:32.841305Z",
          "iopub.status.idle": "2025-05-04T17:12:32.85845Z",
          "shell.execute_reply.started": "2025-05-04T17:12:32.841277Z",
          "shell.execute_reply": "2025-05-04T17:12:32.857638Z"
        },
        "id": "1c748vcvE5IH"
      },
      "outputs": [],
      "execution_count": null
    },
    {
      "cell_type": "code",
      "source": [
        "# Теперь выделим тестовую часть\n",
        "train_data = data.query('sample == 1').drop(['sample'], axis=1)\n",
        "test_data = data.query('sample == 0').drop(['sample'], axis=1)\n",
        "\n",
        "y = train_data.reviewer_score.values            # наш таргет\n",
        "X = train_data.drop(['reviewer_score'], axis=1)"
      ],
      "metadata": {
        "trusted": true,
        "execution": {
          "iopub.status.busy": "2025-05-04T17:12:32.86589Z",
          "iopub.execute_input": "2025-05-04T17:12:32.866684Z",
          "iopub.status.idle": "2025-05-04T17:12:32.971693Z",
          "shell.execute_reply.started": "2025-05-04T17:12:32.866637Z",
          "shell.execute_reply": "2025-05-04T17:12:32.971063Z"
        },
        "id": "lXAUTrNvE5II"
      },
      "outputs": [],
      "execution_count": null
    },
    {
      "cell_type": "code",
      "source": [
        "from sklearn.feature_selection import f_classif # anova\n",
        "\n",
        "columns=X.columns\n",
        "\n",
        "imp_num = pd.Series(f_classif(X, y)[0], index = columns)\n",
        "imp_num.sort_values(inplace = True)\n",
        "imp_num.plot(kind = 'barh');"
      ],
      "metadata": {
        "trusted": true,
        "execution": {
          "iopub.status.busy": "2025-05-04T17:12:32.972757Z",
          "iopub.execute_input": "2025-05-04T17:12:32.972995Z",
          "iopub.status.idle": "2025-05-04T17:12:33.692979Z",
          "shell.execute_reply.started": "2025-05-04T17:12:32.972968Z",
          "shell.execute_reply": "2025-05-04T17:12:33.692181Z"
        },
        "id": "4CCDUwuPE5II"
      },
      "outputs": [],
      "execution_count": null
    },
    {
      "cell_type": "code",
      "source": [
        "# Воспользуемся специальной функцие train_test_split для разбивки тестовых данных\n",
        "# выделим 20% данных на валидацию (параметр test_size)\n",
        "X_train, X_test, y_train, y_test = train_test_split(X, y, test_size=0.2, random_state=RANDOM_SEED)"
      ],
      "metadata": {
        "trusted": true,
        "execution": {
          "iopub.status.busy": "2025-05-04T17:23:39.747049Z",
          "iopub.execute_input": "2025-05-04T17:23:39.748155Z",
          "iopub.status.idle": "2025-05-04T17:23:39.862587Z",
          "shell.execute_reply.started": "2025-05-04T17:23:39.74808Z",
          "shell.execute_reply": "2025-05-04T17:23:39.861646Z"
        },
        "id": "cNSKjc0AE5II"
      },
      "outputs": [],
      "execution_count": null
    },
    {
      "cell_type": "code",
      "source": [
        "# проверяем\n",
        "test_data.shape, train_data.shape, X.shape, X_train.shape, X_test.shape"
      ],
      "metadata": {
        "trusted": true,
        "execution": {
          "iopub.status.busy": "2025-05-04T17:23:42.150395Z",
          "iopub.execute_input": "2025-05-04T17:23:42.151367Z",
          "iopub.status.idle": "2025-05-04T17:23:42.158072Z",
          "shell.execute_reply.started": "2025-05-04T17:23:42.151325Z",
          "shell.execute_reply": "2025-05-04T17:23:42.15714Z"
        },
        "id": "hZ9MMDBME5II"
      },
      "outputs": [],
      "execution_count": null
    },
    {
      "cell_type": "code",
      "source": [
        "# Импортируем необходимые библиотеки:\n",
        "from sklearn.ensemble import RandomForestRegressor # инструмент для создания и обучения модели\n",
        "from sklearn import metrics # инструменты для оценки точности модели"
      ],
      "metadata": {
        "trusted": true,
        "execution": {
          "iopub.status.busy": "2025-05-04T17:23:44.201599Z",
          "iopub.execute_input": "2025-05-04T17:23:44.202278Z",
          "iopub.status.idle": "2025-05-04T17:23:44.206396Z",
          "shell.execute_reply.started": "2025-05-04T17:23:44.202243Z",
          "shell.execute_reply": "2025-05-04T17:23:44.205491Z"
        },
        "id": "a1YBvHVBE5II"
      },
      "outputs": [],
      "execution_count": null
    },
    {
      "cell_type": "code",
      "source": [
        "# Создаём модель (НАСТРОЙКИ НЕ ТРОГАЕМ)\n",
        "model = RandomForestRegressor(n_estimators=100, verbose=1, n_jobs=-1, random_state=RANDOM_SEED)"
      ],
      "metadata": {
        "trusted": true,
        "execution": {
          "iopub.status.busy": "2025-05-04T17:23:45.262802Z",
          "iopub.execute_input": "2025-05-04T17:23:45.263239Z",
          "iopub.status.idle": "2025-05-04T17:23:45.330319Z",
          "shell.execute_reply.started": "2025-05-04T17:23:45.263183Z",
          "shell.execute_reply": "2025-05-04T17:23:45.329343Z"
        },
        "id": "Gu0MfPRsE5II"
      },
      "outputs": [],
      "execution_count": null
    },
    {
      "cell_type": "code",
      "source": [
        "# Обучаем модель на тестовом наборе данных\n",
        "model.fit(X_train, y_train)\n",
        "\n",
        "# Используем обученную модель для предсказания рейтинга ресторанов в тестовой выборке.\n",
        "# Предсказанные значения записываем в переменную y_pred\n",
        "y_pred = model.predict(X_test)"
      ],
      "metadata": {
        "trusted": true,
        "execution": {
          "iopub.status.busy": "2025-05-04T17:23:46.274423Z",
          "iopub.execute_input": "2025-05-04T17:23:46.275253Z",
          "iopub.status.idle": "2025-05-04T17:25:48.408564Z",
          "shell.execute_reply.started": "2025-05-04T17:23:46.275218Z",
          "shell.execute_reply": "2025-05-04T17:25:48.407639Z"
        },
        "id": "6-l1zT3cE5II"
      },
      "outputs": [],
      "execution_count": null
    },
    {
      "cell_type": "code",
      "source": [
        "# Сравниваем предсказанные значения (y_pred) с реальными (y_test), и смотрим насколько они в среднем отличаются\n",
        "# Метрика называется Mean Absolute Error (MAE) и показывает среднее отклонение предсказанных значений от фактических.\n",
        "print('MAPE:', metrics.mean_absolute_error(y_test, y_pred))"
      ],
      "metadata": {
        "trusted": true,
        "execution": {
          "iopub.status.busy": "2025-05-04T17:14:53.267281Z",
          "iopub.execute_input": "2025-05-04T17:14:53.267506Z",
          "iopub.status.idle": "2025-05-04T17:14:53.27365Z",
          "shell.execute_reply.started": "2025-05-04T17:14:53.267477Z",
          "shell.execute_reply": "2025-05-04T17:14:53.272828Z"
        },
        "id": "luGs-27QE5IJ"
      },
      "outputs": [],
      "execution_count": null
    },
    {
      "cell_type": "code",
      "source": [
        "# в RandomForestRegressor есть возможность вывести самые важные признаки для модели\n",
        "plt.rcParams['figure.figsize'] = (10,10)\n",
        "feat_importances = pd.Series(model.feature_importances_, index=X.columns)\n",
        "feat_importances.nlargest(15).plot(kind='barh');"
      ],
      "metadata": {
        "trusted": true,
        "execution": {
          "iopub.status.busy": "2025-05-04T17:15:03.474133Z",
          "iopub.execute_input": "2025-05-04T17:15:03.474831Z",
          "iopub.status.idle": "2025-05-04T17:15:03.887656Z",
          "shell.execute_reply.started": "2025-05-04T17:15:03.474786Z",
          "shell.execute_reply": "2025-05-04T17:15:03.886781Z"
        },
        "id": "ZzwxTcV7E5IJ"
      },
      "outputs": [],
      "execution_count": null
    },
    {
      "cell_type": "code",
      "source": [
        "test_data.sample(10)"
      ],
      "metadata": {
        "trusted": true,
        "execution": {
          "iopub.status.busy": "2025-05-04T17:14:53.669781Z",
          "iopub.execute_input": "2025-05-04T17:14:53.670446Z",
          "iopub.status.idle": "2025-05-04T17:14:53.701085Z",
          "shell.execute_reply.started": "2025-05-04T17:14:53.670399Z",
          "shell.execute_reply": "2025-05-04T17:14:53.700139Z"
        },
        "id": "IhlSLUpyE5IJ"
      },
      "outputs": [],
      "execution_count": null
    },
    {
      "cell_type": "code",
      "source": [
        "test_data = test_data.drop(['reviewer_score'], axis=1)"
      ],
      "metadata": {
        "trusted": true,
        "execution": {
          "iopub.status.busy": "2025-05-04T17:14:53.702194Z",
          "iopub.execute_input": "2025-05-04T17:14:53.702402Z",
          "iopub.status.idle": "2025-05-04T17:14:53.711791Z",
          "shell.execute_reply.started": "2025-05-04T17:14:53.702377Z",
          "shell.execute_reply": "2025-05-04T17:14:53.71087Z"
        },
        "id": "M9_COwsYE5IJ"
      },
      "outputs": [],
      "execution_count": null
    },
    {
      "cell_type": "code",
      "source": [
        "predict_submission = model.predict(test_data)"
      ],
      "metadata": {
        "trusted": true,
        "execution": {
          "iopub.status.busy": "2025-05-04T17:14:53.712864Z",
          "iopub.execute_input": "2025-05-04T17:14:53.713086Z",
          "iopub.status.idle": "2025-05-04T17:14:56.34619Z",
          "shell.execute_reply.started": "2025-05-04T17:14:53.713056Z",
          "shell.execute_reply": "2025-05-04T17:14:56.345285Z"
        },
        "id": "0hxck2HIE5IJ"
      },
      "outputs": [],
      "execution_count": null
    },
    {
      "cell_type": "code",
      "source": [
        "predict_submission"
      ],
      "metadata": {
        "trusted": true,
        "execution": {
          "iopub.status.busy": "2025-05-04T17:14:56.347748Z",
          "iopub.execute_input": "2025-05-04T17:14:56.348468Z",
          "iopub.status.idle": "2025-05-04T17:14:56.354755Z",
          "shell.execute_reply.started": "2025-05-04T17:14:56.348419Z",
          "shell.execute_reply": "2025-05-04T17:14:56.353947Z"
        },
        "id": "S8cFXWv6E5IJ"
      },
      "outputs": [],
      "execution_count": null
    },
    {
      "cell_type": "code",
      "source": [
        "list(sample_submission)"
      ],
      "metadata": {
        "trusted": true,
        "execution": {
          "iopub.status.busy": "2025-05-04T17:14:56.356139Z",
          "iopub.execute_input": "2025-05-04T17:14:56.356763Z",
          "iopub.status.idle": "2025-05-04T17:14:56.366954Z",
          "shell.execute_reply.started": "2025-05-04T17:14:56.356717Z",
          "shell.execute_reply": "2025-05-04T17:14:56.366204Z"
        },
        "id": "YdlB5AfhE5IJ"
      },
      "outputs": [],
      "execution_count": null
    },
    {
      "cell_type": "code",
      "source": [
        "sample_submission['reviewer_score'] = predict_submission\n",
        "sample_submission.to_csv('submission.csv', index=False)\n",
        "sample_submission.head(10)"
      ],
      "metadata": {
        "trusted": true,
        "execution": {
          "iopub.status.busy": "2025-05-04T17:14:56.368229Z",
          "iopub.execute_input": "2025-05-04T17:14:56.368549Z",
          "iopub.status.idle": "2025-05-04T17:14:56.661828Z",
          "shell.execute_reply.started": "2025-05-04T17:14:56.368506Z",
          "shell.execute_reply": "2025-05-04T17:14:56.661025Z"
        },
        "id": "9fipJpyfE5IK"
      },
      "outputs": [],
      "execution_count": null
    }
  ]
}